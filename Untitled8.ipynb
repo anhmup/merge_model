{
  "nbformat": 4,
  "nbformat_minor": 0,
  "metadata": {
    "colab": {
      "provenance": []
    },
    "kernelspec": {
      "name": "python3",
      "display_name": "Python 3"
    },
    "language_info": {
      "name": "python"
    }
  },
  "cells": [
    {
      "cell_type": "code",
      "execution_count": 32,
      "metadata": {
        "id": "V-0YrimUbcaA"
      },
      "outputs": [],
      "source": [
        "import tensorflow as tf\n",
        "from tensorflow import keras\n",
        "from tensorflow.keras import layers\n",
        "from tensorflow.keras import backend as K"
      ]
    },
    {
      "cell_type": "code",
      "source": [
        "def signle_roi(roi):\n",
        "    mask , x1 , y1 , x2, y2 = tf.unstack(roi)\n",
        "    x1 = tf.cast(x1, tf.int16)\n",
        "    x1 = tf.get_static_value(x1)\n",
        "    y1 = tf.cast(y1, tf.int16)\n",
        "    y1 = tf.get_static_value(y1)\n",
        "    x2 = tf.cast(x2, tf.int16)\n",
        "    x2 = tf.get_static_value(x2)\n",
        "    y2 = tf.cast(y2, tf.int16)\n",
        "    y2 = tf.get_static_value(y2)\n",
        "\n",
        "    mask = tf.cast(mask, tf.int16)\n",
        "    mask = tf.get_static_value(mask)\n",
        "    return mask, x1, y1, x2 ,y2\n"
      ],
      "metadata": {
        "id": "gUGowneobezA"
      },
      "execution_count": 29,
      "outputs": []
    },
    {
      "cell_type": "code",
      "source": [
        "class Roi_Pooling(layers.Layer):\n",
        "    def __init__(self, pool_size, **kwargs):\n",
        "        super(Roi_Pooling, self).__init__(**kwargs)\n",
        "        self.pool_size = pool_size\n",
        "    def call(self, feature_map, rois):\n",
        "        \"\"\"\n",
        "        feature _map  = [b,h,w,c]\n",
        "        rois = [mask, x1 ,y1, x2, y2]\n",
        "\n",
        "        \"\"\"\n",
        "        outputs = []\n",
        "        feature_map_sub = feature_map[0]\n",
        "        # print(feature_map.shape)\n",
        "        for roi_idx in rois:\n",
        "            mask, x1, y1, x2 ,y2 = signle_roi(roi_idx)\n",
        "            print(mask, x1, y1, x2 ,y2 )\n",
        "            if mask == 1 :\n",
        "                rs = tf.zeros(shape= (1,self.pool_size[0], self.pool_size[1], feature_map.shape[-1]))\n",
        "            elif mask ==0:\n",
        "                sub_feature_map = feature_map[:,y1:y2, x1:x2, :]\n",
        "                print(sub_feature_map.shape)\n",
        "                rs = tf.image.resize(sub_feature_map, self.pool_size)\n",
        "            outputs.append(rs)\n",
        "        final_output  = K.concatenate(outputs, axis= 0)\n",
        "        print(final_output.shape)\n",
        "        # final_output = K.reshape(final_output, (1,self.pool_size[0] , self.pool_size[1], feature_map.shape[-1]))\n",
        "\n",
        "        return final_output\n",
        "\n",
        "    def get_config(self):\n",
        "        config = super().get_config()\n",
        "        config.update({'pool_size' : self.pool_size})\n",
        "        return config\n",
        "\n"
      ],
      "metadata": {
        "id": "2tEJWUHybhcY"
      },
      "execution_count": 34,
      "outputs": []
    },
    {
      "cell_type": "code",
      "source": [
        "batch_size = 1\n",
        "height = 128\n",
        "width = 128\n",
        "channels = 256\n",
        "\n",
        "feature_map = tf.random.normal([batch_size, height, width, channels])\n",
        "feature_map.shape"
      ],
      "metadata": {
        "colab": {
          "base_uri": "https://localhost:8080/"
        },
        "id": "3TjdM335bkqC",
        "outputId": "8ec0e7c6-6fb4-49a9-cefd-0765edfb9ad9"
      },
      "execution_count": 10,
      "outputs": [
        {
          "output_type": "execute_result",
          "data": {
            "text/plain": [
              "TensorShape([1, 128, 128, 256])"
            ]
          },
          "metadata": {},
          "execution_count": 10
        }
      ]
    },
    {
      "cell_type": "code",
      "source": [
        "rois = tf.constant([[0, 5, 10, 20, 25],\n",
        "                    [1, 10, 10, 10, 10],\n",
        "                    [0, 12, 14, 30, 35],\n",
        "                    [1, 8, 8, 8, 8],\n",
        "                    [0, 0, 4, 32, 36]], dtype=tf.float32)\n",
        "rois.shape"
      ],
      "metadata": {
        "colab": {
          "base_uri": "https://localhost:8080/"
        },
        "id": "iqtaPdBkbqDx",
        "outputId": "38a3402e-983e-4205-b605-9e18b0ecfa40"
      },
      "execution_count": 27,
      "outputs": [
        {
          "output_type": "execute_result",
          "data": {
            "text/plain": [
              "TensorShape([5, 5])"
            ]
          },
          "metadata": {},
          "execution_count": 27
        }
      ]
    },
    {
      "cell_type": "code",
      "source": [
        "pool_feature =  Roi_Pooling((7,7))(feature_map, rois)"
      ],
      "metadata": {
        "colab": {
          "base_uri": "https://localhost:8080/"
        },
        "id": "HWJWQywUb6DQ",
        "outputId": "99b428f2-e37b-4d35-82bc-5d88a5efce44"
      },
      "execution_count": 35,
      "outputs": [
        {
          "output_type": "stream",
          "name": "stdout",
          "text": [
            "0 5 10 20 25\n",
            "(1, 15, 15, 256)\n",
            "1 10 10 10 10\n",
            "0 12 14 30 35\n",
            "(1, 21, 18, 256)\n",
            "1 8 8 8 8\n",
            "0 0 4 32 36\n",
            "(1, 32, 32, 256)\n",
            "(5, 7, 7, 256)\n"
          ]
        }
      ]
    },
    {
      "cell_type": "code",
      "source": [
        "pool_feature[1]"
      ],
      "metadata": {
        "id": "WNmqTF5jfKnj",
        "outputId": "1789279e-bd6a-4988-bfcc-9d09c6db0015",
        "colab": {
          "base_uri": "https://localhost:8080/"
        }
      },
      "execution_count": 36,
      "outputs": [
        {
          "output_type": "execute_result",
          "data": {
            "text/plain": [
              "<tf.Tensor: shape=(7, 7, 256), dtype=float32, numpy=\n",
              "array([[[0., 0., 0., ..., 0., 0., 0.],\n",
              "        [0., 0., 0., ..., 0., 0., 0.],\n",
              "        [0., 0., 0., ..., 0., 0., 0.],\n",
              "        ...,\n",
              "        [0., 0., 0., ..., 0., 0., 0.],\n",
              "        [0., 0., 0., ..., 0., 0., 0.],\n",
              "        [0., 0., 0., ..., 0., 0., 0.]],\n",
              "\n",
              "       [[0., 0., 0., ..., 0., 0., 0.],\n",
              "        [0., 0., 0., ..., 0., 0., 0.],\n",
              "        [0., 0., 0., ..., 0., 0., 0.],\n",
              "        ...,\n",
              "        [0., 0., 0., ..., 0., 0., 0.],\n",
              "        [0., 0., 0., ..., 0., 0., 0.],\n",
              "        [0., 0., 0., ..., 0., 0., 0.]],\n",
              "\n",
              "       [[0., 0., 0., ..., 0., 0., 0.],\n",
              "        [0., 0., 0., ..., 0., 0., 0.],\n",
              "        [0., 0., 0., ..., 0., 0., 0.],\n",
              "        ...,\n",
              "        [0., 0., 0., ..., 0., 0., 0.],\n",
              "        [0., 0., 0., ..., 0., 0., 0.],\n",
              "        [0., 0., 0., ..., 0., 0., 0.]],\n",
              "\n",
              "       ...,\n",
              "\n",
              "       [[0., 0., 0., ..., 0., 0., 0.],\n",
              "        [0., 0., 0., ..., 0., 0., 0.],\n",
              "        [0., 0., 0., ..., 0., 0., 0.],\n",
              "        ...,\n",
              "        [0., 0., 0., ..., 0., 0., 0.],\n",
              "        [0., 0., 0., ..., 0., 0., 0.],\n",
              "        [0., 0., 0., ..., 0., 0., 0.]],\n",
              "\n",
              "       [[0., 0., 0., ..., 0., 0., 0.],\n",
              "        [0., 0., 0., ..., 0., 0., 0.],\n",
              "        [0., 0., 0., ..., 0., 0., 0.],\n",
              "        ...,\n",
              "        [0., 0., 0., ..., 0., 0., 0.],\n",
              "        [0., 0., 0., ..., 0., 0., 0.],\n",
              "        [0., 0., 0., ..., 0., 0., 0.]],\n",
              "\n",
              "       [[0., 0., 0., ..., 0., 0., 0.],\n",
              "        [0., 0., 0., ..., 0., 0., 0.],\n",
              "        [0., 0., 0., ..., 0., 0., 0.],\n",
              "        ...,\n",
              "        [0., 0., 0., ..., 0., 0., 0.],\n",
              "        [0., 0., 0., ..., 0., 0., 0.],\n",
              "        [0., 0., 0., ..., 0., 0., 0.]]], dtype=float32)>"
            ]
          },
          "metadata": {},
          "execution_count": 36
        }
      ]
    }
  ]
}